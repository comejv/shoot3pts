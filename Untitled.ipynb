{
 "cells": [
  {
   "cell_type": "code",
   "execution_count": 4,
   "metadata": {},
   "outputs": [
    {
     "name": "stdout",
     "output_type": "stream",
     "text": [
      "Quelle est la vitesse initiale de lancer en mètres par seconde ?9\n",
      "Quelle est la hauteur à laquelle le ballon est lancé ?1.85\n",
      "Quel est l'angle de lancer en degrés ?60\n"
     ]
    }
   ],
   "source": [
    "# %load main.py\n",
    "# Le but est de trouver les vecteurs V et A pour que le ballon lancé rentre dans le panier sans toucher l'arceau\n",
    "\n",
    "import matplotlib.pyplot as plt\n",
    "import numpy as np\n",
    "\n",
    "V0 = float(\n",
    "    input(\"Quelle est la vitesse initiale de lancer en mètres par seconde ?\"))\n",
    "g = 9.8  # Accélération gravitationelle en m.s-2\n",
    "T = float(input(\"Quelle est la hauteur à laquelle le ballon est lancé ?\"))\n",
    "\n",
    "r = 0.24  # Diamètre ballon\n",
    "\n",
    "pos_planche = 6.75\n",
    "D_panier = 0.45\n",
    "support_panier = 0.15\n",
    "\n",
    "x_panier = [6.15, 6.6]\n",
    "h_panier = 3.05 - T  # Hauteur panier relativement au départ du ballon\n",
    "y_panier = [h_panier, h_panier]\n",
    "\n",
    "\n",
    "def ACosTan(A):\n",
    "\n",
    "    # Conversion de langle en radians car numpy est en radians\n",
    "    Arad = np.radians(A)\n",
    "\n",
    "    # Création des variables de cos et tan en dehors de l'équation principale pour simplifier la lecture\n",
    "    Acos = np.cos(Arad)\n",
    "    Atan = np.tan(Arad)\n",
    "\n",
    "    return Acos, Atan\n",
    "\n",
    "\n",
    "x = np.linspace(0, 10, 30)\n",
    "\n",
    "\n",
    "def position(acceleration_gravitationelle, vitesse_initiale, cosinus_angle, tangeante_angle):\n",
    "    hauteur = -0.5 * acceleration_gravitationelle * (\n",
    "        (x**2) / ((vitesse_initiale**2) * (cosinus_angle**2))\n",
    "    ) + tangeante_angle * x\n",
    "\n",
    "    return hauteur\n",
    "\n",
    "\n",
    "Acos, Atan = ACosTan(float(input(\"Quel est l'angle de lancer en degrés ?\")))\n",
    "\n",
    "centre_inertie = position(g, V0, Acos, Atan)\n"
   ]
  },
  {
   "cell_type": "code",
   "execution_count": 5,
   "metadata": {},
   "outputs": [
    {
     "data": {
      "image/png": "[encoded data removed]",
      "text/plain": [
       "<matplotlib.figure.Figure at 0x7feb6cda9ba8>"
      ]
     },
     "metadata": {},
     "output_type": "display_data"
    }
   ],
   "source": [
    "# plt.plot(x, centre_inertie, 'r:')\n",
    "plt.plot(x, centre_inertie, color='red', linewidth=4, linestyle=':')\n",
    "plt.plot(x_panier, y_panier, marker=\"x\", color=\"blue\", linestyle=\":\")\n",
    "plt.ylim(0, 5)\n",
    "plt.xlim(0, 10)\n",
    "\n",
    "plt.show()"
   ]
  },
  {
   "cell_type": "code",
   "execution_count": null,
   "metadata": {},
   "outputs": [],
   "source": []
  }
 ],
 "metadata": {
  "kernelspec": {
   "display_name": "Python 3",
   "language": "python",
   "name": "python3"
  },
  "language_info": {
   "codemirror_mode": {
    "name": "ipython",
    "version": 3
   },
   "file_extension": ".py",
   "mimetype": "text/x-python",
   "name": "python",
   "nbconvert_exporter": "python",
   "pygments_lexer": "ipython3",
   "version": "3.6.9"
  }
 },
 "nbformat": 4,
 "nbformat_minor": 2
}
